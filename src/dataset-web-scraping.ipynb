{
 "cells": [
  {
   "cell_type": "code",
   "execution_count": 1,
   "id": "2db17d12",
   "metadata": {},
   "outputs": [],
   "source": [
    "# imports and Libraries\n",
    "import requests\n",
    "from bs4 import BeautifulSoup"
   ]
  },
  {
   "cell_type": "code",
   "execution_count": 2,
   "id": "b108c2cf",
   "metadata": {},
   "outputs": [],
   "source": [
    "# send a GET request to the website\n",
    "url = \"https://www.thrillophilia.com/places-to-visit-in-philippines\"\n",
    "response = requests.get(url)"
   ]
  },
  {
   "cell_type": "code",
   "execution_count": 3,
   "id": "3298482d",
   "metadata": {},
   "outputs": [],
   "source": [
    "# create a BeautifulSoup object to parse the HTML content\n",
    "soup = BeautifulSoup(response.text, 'html.parser')"
   ]
  },
  {
   "cell_type": "code",
   "execution_count": 4,
   "id": "9e47b057",
   "metadata": {},
   "outputs": [
    {
     "data": {
      "text/plain": [
       "<title>55 Places to Visit in Philippines: Tourist Places &amp; Attractions</title>"
      ]
     },
     "execution_count": 4,
     "metadata": {},
     "output_type": "execute_result"
    }
   ],
   "source": [
    "soup.title"
   ]
  },
  {
   "cell_type": "code",
   "execution_count": 5,
   "id": "18b0c1ef",
   "metadata": {
    "scrolled": true
   },
   "outputs": [
    {
     "data": {
      "text/plain": [
       "[<h3 class=\"h3 title\">\n",
       "           San Agustin Church\n",
       "       </h3>,\n",
       " <h3 class=\"h3 title\">\n",
       "           National Museum of the Philippines\n",
       "       </h3>,\n",
       " <h3 class=\"h3 title\">\n",
       "           Chocolate Hills\n",
       "       </h3>,\n",
       " <h3 class=\"h3 title\">\n",
       "           Banaue Rice Terraces\n",
       "       </h3>,\n",
       " <h3 class=\"h3 title\">\n",
       "           Puerto Princesa Subterranean River National Park\n",
       "       </h3>]"
      ]
     },
     "execution_count": 5,
     "metadata": {},
     "output_type": "execute_result"
    }
   ],
   "source": [
    "soup.find_all('h3')[:5]"
   ]
  },
  {
   "cell_type": "code",
   "execution_count": 6,
   "id": "4121da09",
   "metadata": {},
   "outputs": [
    {
     "data": {
      "text/plain": [
       "[<div class=\"base-block main-card-container content-main-card\" data-id=\"53597\">\n",
       " <div class=\"base-block-head info-head news\">\n",
       " <div class=\"left-side\">\n",
       " <span class=\"number\">01</span>\n",
       " <h3 class=\"h3 title\">\n",
       "           San Agustin Church\n",
       "       </h3>\n",
       " </div>\n",
       " <div class=\"right-side mobile-hidden\">\n",
       " <div class=\"btn-holder\">\n",
       " <span class=\"btn text-uppercase radius-md trigger-tour-enquiry-popup\" data-booking-req=\"/v2/booking_requests?source=EnquiryLandingPage\" data-card-id=\"53597\" data-image-url=\"\" data-page-url=\"https://www.thrillophilia.com/places-to-visit-in-philippines\" data-section-source=\"custom_content_card\" data-tour-style=\"main-card-enquiry\">Send Enquiry</span>\n",
       " </div>\n",
       " </div>\n",
       " </div>\n",
       " <div class=\"base-block-image onclick-link\" data-href=\"\">\n",
       " <picture class=\"lazy-picture\"><source data-srcset=\"https://images.thrillophilia.com/image/upload/s--74XlJGWj--/c_fill,g_center,h_450,q_auto,w_753/dpr_1.0,f_auto,fl_strip_profile/v1/images/photos/000/367/429/original/1614169042_shutterstock_1076060522.jpg.jpg 1x, https://images.thrillophilia.com/image/upload/s--qM8Ljr9m--/c_fill,g_center,h_450,q_auto,w_753/dpr_1.5,f_auto,fl_strip_profile/v1/images/photos/000/367/429/original/1614169042_shutterstock_1076060522.jpg.jpg 2x\" media=\"(min-width: 1280px)\"/><source data-srcset=\"https://images.thrillophilia.com/image/upload/s--74XlJGWj--/c_fill,g_center,h_450,q_auto,w_753/dpr_1.0,f_auto,fl_strip_profile/v1/images/photos/000/367/429/original/1614169042_shutterstock_1076060522.jpg.jpg 1x, https://images.thrillophilia.com/image/upload/s--qM8Ljr9m--/c_fill,g_center,h_450,q_auto,w_753/dpr_1.5,f_auto,fl_strip_profile/v1/images/photos/000/367/429/original/1614169042_shutterstock_1076060522.jpg.jpg 2x\" media=\"(min-width: 1024px)\"/><source data-srcset=\"https://images.thrillophilia.com/image/upload/s--PBqbLU8c--/c_fill,g_center,h_460,q_auto,w_800/dpr_1.0,f_auto,fl_strip_profile/v1/images/photos/000/367/429/original/1614169042_shutterstock_1076060522.jpg.jpg 1x, https://images.thrillophilia.com/image/upload/s--RHtCclVy--/c_fill,g_center,h_460,q_auto,w_800/dpr_1.5,f_auto,fl_strip_profile/v1/images/photos/000/367/429/original/1614169042_shutterstock_1076060522.jpg.jpg 2x\" media=\"(min-width: 768px)\"/><source data-srcset=\"https://images.thrillophilia.com/image/upload/s--mPUrf1bO--/c_fill,g_center,h_460,q_auto,w_768/dpr_1.0,f_auto,fl_strip_profile/v1/images/photos/000/367/429/original/1614169042_shutterstock_1076060522.jpg.jpg 1x, https://images.thrillophilia.com/image/upload/s--ATa4nGVU--/c_fill,g_center,h_460,q_auto,w_768/dpr_1.5,f_auto,fl_strip_profile/v1/images/photos/000/367/429/original/1614169042_shutterstock_1076060522.jpg.jpg 2x\" media=\"(min-width: 576px)\"/><source data-srcset=\"https://images.thrillophilia.com/image/upload/s--SmEdXxzT--/c_fill,g_center,h_300,q_auto,w_576/dpr_1.0,f_auto,fl_strip_profile/v1/images/photos/000/367/429/original/1614169042_shutterstock_1076060522.jpg.jpg 1x, https://images.thrillophilia.com/image/upload/s--L32FhLYe--/c_fill,g_center,h_300,q_auto,w_576/dpr_1.5,f_auto,fl_strip_profile/v1/images/photos/000/367/429/original/1614169042_shutterstock_1076060522.jpg.jpg 2x\" media=\"(min-width: 320px)\"/><source data-srcset=\"https://images.thrillophilia.com/image/upload/s--3Z4HJVXp--/c_fill,g_center,h_300,q_auto,w_320/dpr_1.0,f_auto,fl_strip_profile/v1/images/photos/000/367/429/original/1614169042_shutterstock_1076060522.jpg.jpg 1x, https://images.thrillophilia.com/image/upload/s--xGP-nXEw--/c_fill,g_center,h_300,q_auto,w_320/dpr_1.5,f_auto,fl_strip_profile/v1/images/photos/000/367/429/original/1614169042_shutterstock_1076060522.jpg.jpg 2x\" media=\"(max-width: 320px)\"/><img alt=\"San Agustin Church\" data-src=\"https://images.thrillophilia.com/image/upload/s--FRe4HVDy--/c_fill,g_center,h_450,q_auto,w_752/f_auto,fl_strip_profile/v1/images/photos/000/367/429/original/1614169042_shutterstock_1076060522.jpg.jpg\" data-srcset=\"https://images.thrillophilia.com/image/upload/s--74XlJGWj--/c_fill,g_center,h_450,q_auto,w_753/dpr_1.0,f_auto,fl_strip_profile/v1/images/photos/000/367/429/original/1614169042_shutterstock_1076060522.jpg.jpg 1x, https://images.thrillophilia.com/image/upload/s--qM8Ljr9m--/c_fill,g_center,h_450,q_auto,w_753/dpr_1.5,f_auto,fl_strip_profile/v1/images/photos/000/367/429/original/1614169042_shutterstock_1076060522.jpg.jpg 2x\" src=\"\"/></picture>\n",
       " </div>\n",
       " <div class=\"base-block-body\">\n",
       " <div class=\"text-holder read-more-wrap\">\n",
       " <div class=\"read-more-content lazy-read-more\" disable-show-more-button=\"false\">\n",
       " <div>Constructed back in 1586, San Agustin Church is one of the oldest churches of the Philippines. Declared as a World Heritage Site by UNESCO, San Agustin Church is considered to be one of most important places to see in Philippines. Flaunting a stunning Baroque style architectural design, this church has gone through multiple renovations, with the most recent one dating back to 2013.<br/><br/>Influences of Spanish and Chinese architecture can also be seen in the design of this church. The large wooden doors of the church boast intricate carvings that add to the beauty of the chapel.<br/><span><br/><b>Location: </b>General Luna St, Manila, 1002 Metro Manila, Philippines<br/></span><span><br/><b>Timings: </b>8:00 AM to 12:00 PM and 1:00 PM to 6:00 PM<br/></span><span><br/><b>Price: </b>Php 89 per head</span>\n",
       " </div>\n",
       " </div>\n",
       " </div>\n",
       " </div>\n",
       " <div class=\"btn-holder desktop-hidden tour-card-bottom-button-holder\">\n",
       " <span class=\"btn text-uppercase radius-md trigger-tour-enquiry-popup tour-card-bottom-button\" data-card-id=\"53597\" data-image-url=\"\" data-page-url=\"https://www.thrillophilia.com/places-to-visit-in-philippines\" data-section-source=\"custom_content_card\" data-tour-style=\"main-card-enquiry\">Send Enquiry</span>\n",
       " </div>\n",
       " </div>]"
      ]
     },
     "execution_count": 6,
     "metadata": {},
     "output_type": "execute_result"
    }
   ],
   "source": [
    "soup.find_all('div', class_='base-block main-card-container content-main-card')[:1]"
   ]
  },
  {
   "cell_type": "code",
   "execution_count": 7,
   "id": "d5b93064",
   "metadata": {},
   "outputs": [],
   "source": [
    "# find all the main card containers\n",
    "card_containers = soup.find_all('div', class_='base-block main-card-container content-main-card')"
   ]
  },
  {
   "cell_type": "code",
   "execution_count": 8,
   "id": "1093c9a9",
   "metadata": {},
   "outputs": [
    {
     "name": "stdout",
     "output_type": "stream",
     "text": [
      "Tourist Spot: San Agustin Church\n",
      "Image: https://images.thrillophilia.com/image/upload/s--FRe4HVDy--/c_fill,g_center,h_450,q_auto,w_752/f_auto,fl_strip_profile/v1/images/photos/000/367/429/original/1614169042_shutterstock_1076060522.jpg.jpg\n",
      "\n",
      "Tourist Spot: National Museum of the Philippines\n",
      "Image: https://images.thrillophilia.com/image/upload/s--KsugBbGZ--/c_fill,g_center,h_450,q_auto,w_752/f_auto,fl_strip_profile/v1/images/photos/000/367/430/original/1614169120_shutterstock_1123003349.jpg.jpg\n",
      "\n",
      "Tourist Spot: Chocolate Hills\n",
      "Image: https://images.thrillophilia.com/image/upload/s--uwxz4kck--/c_fill,g_center,h_450,q_auto,w_752/f_auto,fl_strip_profile/v1/images/photos/000/367/439/original/1614169946_shutterstock_1062273197.jpg.jpg\n",
      "\n",
      "Tourist Spot: Banaue Rice Terraces\n",
      "Image: https://images.thrillophilia.com/image/upload/s--Nrvr-N3c--/c_fill,g_center,h_450,q_auto,w_752/f_auto,fl_strip_profile/v1/images/photos/000/367/510/original/1614174738_1614149383_shutterstock_1462704626.jpg.jpg.jpg\n",
      "\n",
      "Tourist Spot: Puerto Princesa Subterranean River National Park\n",
      "Image: https://images.thrillophilia.com/image/upload/s--EQiKmZOo--/c_fill,g_center,h_450,q_auto,w_752/f_auto,fl_strip_profile/v1/images/photos/000/367/509/original/1614174714_1614149228_shutterstock_489906367.jpg.jpg.jpg\n",
      "\n",
      "Tourist Spot: Siargao\n",
      "Image: https://images.thrillophilia.com/image/upload/s--3Cqrwsx_--/c_fill,g_center,h_450,q_auto,w_752/f_auto,fl_strip_profile/v1/images/photos/000/373/184/original/1621935231_shutterstock_1177486879.jpg.jpg\n",
      "\n",
      "Tourist Spot: Samal Island\n",
      "Image: https://images.thrillophilia.com/image/upload/s--2llWtFr1--/c_fill,g_center,h_450,q_auto,w_752/f_auto,fl_strip_profile/v1/images/photos/000/373/182/original/1621935113_shutterstock_1830669002.jpg.jpg\n",
      "\n",
      "Tourist Spot: Coron Island\n",
      "Image: https://images.thrillophilia.com/image/upload/s--ZUChWz3a--/c_fill,g_center,h_450,q_auto,w_752/f_auto,fl_strip_profile/v1/images/photos/000/373/181/original/1621935059_shutterstock_225128794.jpg.jpg\n",
      "\n",
      "Tourist Spot: Tagaytay\n",
      "Image: https://images.thrillophilia.com/image/upload/s--R5UpDo6x--/c_fill,g_center,h_450,q_auto,w_752/f_auto,fl_strip_profile/v1/images/photos/000/373/185/original/1621935297_shutterstock_1384011518.jpg.jpg\n",
      "\n",
      "Tourist Spot: Donsol\n",
      "Image: https://images.thrillophilia.com/image/upload/s--QLro0RC_--/c_fill,g_center,h_450,q_auto,w_752/f_auto,fl_strip_profile/v1/images/photos/000/373/186/original/1621935377_shutterstock_393505276.jpg.jpg\n",
      "\n",
      "Tourist Spot: Manilla Bay\n",
      "Image: https://images.thrillophilia.com/image/upload/s--t20ApHK_--/c_fill,g_center,h_450,q_auto,w_752/f_auto,fl_strip_profile/v1/images/photos/000/367/431/original/1614169212_shutterstock_1279048858.jpg.jpg\n",
      "\n",
      "Tourist Spot: Batan Island\n",
      "Image: https://images.thrillophilia.com/image/upload/s--5qPZICX_--/c_fill,g_center,h_450,q_auto,w_752/f_auto,fl_strip_profile/v1/images/photos/000/373/187/original/1621935438_shutterstock_1134296975.jpg.jpg\n",
      "\n",
      "Tourist Spot: Apo Island\n",
      "Image: https://images.thrillophilia.com/image/upload/s--K-bzyDIT--/c_fill,g_center,h_450,q_auto,w_752/f_auto,fl_strip_profile/v1/images/photos/000/373/183/original/1621935190_shutterstock_1421137181.jpg.jpg\n",
      "\n",
      "Tourist Spot: Ayala Museum\n",
      "Image: https://images.thrillophilia.com/image/upload/s--UbgLEiuR--/c_fill,g_center,h_450,q_auto,w_752/f_auto,fl_strip_profile/v1/images/photos/000/367/432/original/1614169240_shutterstock_1041358558.jpg.jpg\n",
      "\n",
      "Tourist Spot: Danao Adventure Park\n",
      "Image: https://images.thrillophilia.com/image/upload/s--1_AqH-ql--/c_fill,g_center,h_450,q_auto,w_752/f_auto,fl_strip_profile/v1/images/photos/000/367/434/original/1614169327_shutterstock_1664981836.jpg.jpg\n",
      "\n",
      "Tourist Spot: Nalusuan Island\n",
      "Image: https://images.thrillophilia.com/image/upload/s--xoi5DFVH--/c_fill,g_center,h_450,q_auto,w_752/f_auto,fl_strip_profile/v1/images/photos/000/367/440/original/1614170036_shutterstock_92324962.jpg.jpg\n",
      "\n",
      "Tourist Spot: Jumalon Butterfly Sanctuary\n",
      "Image: https://images.thrillophilia.com/image/upload/s--DWchf_h_--/c_fill,g_center,h_450,q_auto,w_752/f_auto,fl_strip_profile/v1/images/photos/000/367/443/original/1614170319_shutterstock_1028931481.jpg.jpg\n",
      "\n",
      "Tourist Spot: White Beach\n",
      "Image: https://images.thrillophilia.com/image/upload/s--lUXqOdgO--/c_fill,g_center,h_450,q_auto,w_752/f_auto,fl_strip_profile/v1/images/photos/000/367/444/original/1614170370_shutterstock_171061349.jpg.jpg\n",
      "\n",
      "Tourist Spot: Mt. Luho View Deck\n",
      "Image: https://images.thrillophilia.com/image/upload/s--wHLRydHa--/c_fill,g_center,h_450,q_auto,w_752/f_auto,fl_strip_profile/v1/images/photos/000/367/445/original/1614170418_shutterstock_1066580501.jpg.jpg\n",
      "\n",
      "Tourist Spot: Crystal Cove Island\n",
      "Image: https://images.thrillophilia.com/image/upload/s--99i6Y9tc--/c_fill,g_center,h_450,q_auto,w_752/f_auto,fl_strip_profile/v1/images/photos/000/367/446/original/1614170469_shutterstock_786086242.jpg.jpg\n",
      "\n",
      "Tourist Spot: Rizal Park\n",
      "Image: https://images.thrillophilia.com/image/upload/s--8XXBie_A--/c_fill,g_center,h_450,q_auto,w_752/f_auto,fl_strip_profile/v1/images/photos/000/367/447/original/1614170548_shutterstock_1019903074.jpg.jpg\n",
      "\n",
      "Tourist Spot: Fort Santiago\n",
      "Image: https://images.thrillophilia.com/image/upload/s--PTPGV2Ss--/c_fill,g_center,h_450,q_auto,w_752/f_auto,fl_strip_profile/v1/images/photos/000/367/463/original/1614171696_shutterstock_1075271321.jpg.jpg\n",
      "\n",
      "Tourist Spot: Manila Ocean Park\n",
      "Image: https://images.thrillophilia.com/image/upload/s--ridYrnTd--/c_fill,g_center,h_450,q_auto,w_752/f_auto,fl_strip_profile/v1/images/photos/000/367/466/original/1614171940_shutterstock_514941421.jpg.jpg\n",
      "\n",
      "Tourist Spot: Star City Amusement Park\n",
      "Image: https://images.thrillophilia.com/image/upload/s--4gdm0WnR--/c_fill,g_center,h_450,q_auto,w_752/f_auto,fl_strip_profile/v1/images/photos/000/367/468/original/1614172067_shutterstock_1583067154.jpg.jpg\n",
      "\n",
      "Tourist Spot: San Sebastian Church\n",
      "Image: https://images.thrillophilia.com/image/upload/s--oHe0L8iy--/c_fill,g_center,h_450,q_auto,w_752/f_auto,fl_strip_profile/v1/images/photos/000/367/470/original/1614172167_shutterstock_109749125.jpg.jpg\n",
      "\n",
      "Tourist Spot: Intramuros\n",
      "Image: https://images.thrillophilia.com/image/upload/s--1U3c-ehW--/c_fill,g_center,h_450,q_auto,w_752/f_auto,fl_strip_profile/v1/images/photos/000/367/471/original/1614172236_1614149857_shutterstock_1174563151.jpg.jpg.jpg\n",
      "\n",
      "Tourist Spot: Manila Cathedral\n",
      "Image: https://images.thrillophilia.com/image/upload/s--RnlNNKr8--/c_fill,g_center,h_450,q_auto,w_752/f_auto,fl_strip_profile/v1/images/photos/000/367/472/original/1614172251_1614149904_shutterstock_1687073527.jpg.jpg.jpg\n",
      "\n",
      "Tourist Spot: Paco Park\n",
      "Image: https://images.thrillophilia.com/image/upload/s--wv3U6fwZ--/c_fill,g_center,h_450,q_auto,w_752/f_auto,fl_strip_profile/v1/images/photos/000/367/474/original/1614172312_shutterstock_1384933280.jpg.jpg\n",
      "\n",
      "Tourist Spot: Hinagdanan Cave\n",
      "Image: https://images.thrillophilia.com/image/upload/s--CZ2VgrnP--/c_fill,g_center,h_450,q_auto,w_752/f_auto,fl_strip_profile/v1/images/photos/000/367/475/original/1614172327_1614154384_shutterstock_256762867.jpg.jpg.jpg\n",
      "\n",
      "Tourist Spot: Tarsier Conservation Area\n",
      "Image: https://images.thrillophilia.com/image/upload/s--xXY8sBzE--/c_fill,g_center,h_450,q_auto,w_752/f_auto,fl_strip_profile/v1/images/photos/000/367/477/original/1614172380_shutterstock_285536267.jpg.jpg\n",
      "\n",
      "Tourist Spot: Blood Compact Monument\n",
      "Image: https://images.thrillophilia.com/image/upload/s--iAZlEfdS--/c_fill,g_center,h_450,q_auto,w_752/f_auto,fl_strip_profile/v1/images/photos/000/367/478/original/1614172419_shutterstock_1725560950.jpg.jpg\n",
      "\n",
      "Tourist Spot: Loboc Adventure Park\n",
      "Image: https://images.thrillophilia.com/image/upload/s--V8wecOw_--/c_fill,g_center,h_450,q_auto,w_752/f_auto,fl_strip_profile/v1/images/photos/000/367/479/original/1614172491_shutterstock_517225930.jpg.jpg\n",
      "\n",
      "Tourist Spot: Baclayon Church\n",
      "Image: https://images.thrillophilia.com/image/upload/s--j3o944rD--/c_fill,g_center,h_450,q_auto,w_752/f_auto,fl_strip_profile/v1/images/photos/000/367/480/original/1614172534_shutterstock_1086731264.jpg.jpg\n",
      "\n",
      "Tourist Spot: Mag-Aso and Busay Falls\n",
      "Image: https://images.thrillophilia.com/image/upload/s--ExhDFrJE--/c_fill,g_center,h_450,q_auto,w_752/f_auto,fl_strip_profile/v1/images/photos/000/367/481/original/1614172576_shutterstock_1380118964.jpg.jpg\n",
      "\n",
      "Tourist Spot: Yap-Sandiego Ancestral House\n",
      "Image: https://images.thrillophilia.com/image/upload/s--K2XnSvx7--/c_fill,g_center,h_450,q_auto,w_752/f_auto,fl_strip_profile/v1/images/photos/000/367/482/original/1614172626_shutterstock_703660912.jpg.jpg\n",
      "\n",
      "Tourist Spot: Fort San Pedro\n",
      "Image: https://images.thrillophilia.com/image/upload/s--TZwZqddr--/c_fill,g_center,h_450,q_auto,w_752/f_auto,fl_strip_profile/v1/images/photos/000/367/483/original/1614172726_shutterstock_1171448296.jpg.jpg\n",
      "\n",
      "Tourist Spot: Magellan's Cross\n",
      "Image: https://images.thrillophilia.com/image/upload/s--E6zP9tsR--/c_fill,g_center,h_450,q_auto,w_752/f_auto,fl_strip_profile/v1/images/photos/000/367/462/original/1614171660_shutterstock_1154603770.jpg.jpg\n",
      "\n",
      "Tourist Spot: Cebu Heritage Monument\n",
      "Image: https://images.thrillophilia.com/image/upload/s--ioxD91DN--/c_fill,g_center,h_450,q_auto,w_752/f_auto,fl_strip_profile/v1/images/photos/000/367/488/original/1614173526_shutterstock_281120423.jpg.jpg\n",
      "\n",
      "Tourist Spot: Kawasan Falls\n",
      "Image: https://images.thrillophilia.com/image/upload/s--_VuymHa---/c_fill,g_center,h_450,q_auto,w_752/f_auto,fl_strip_profile/v1/images/photos/000/367/489/original/1614173572_shutterstock_1469120762.jpg.jpg\n",
      "\n",
      "Tourist Spot: Candongao Peak\n",
      "Image: https://images.thrillophilia.com/image/upload/s--y5cwGZxP--/c_fill,g_center,h_450,q_auto,w_752/f_auto,fl_strip_profile/v1/images/photos/000/367/490/original/1614173697_shutterstock_1182376561.jpg.jpg\n",
      "\n",
      "Tourist Spot: Puka Shell Beach\n",
      "Image: https://images.thrillophilia.com/image/upload/s--6ml0ssyn--/c_fill,g_center,h_450,q_auto,w_752/f_auto,fl_strip_profile/v1/images/photos/000/367/491/original/1614173743_shutterstock_1046438335.jpg.jpg\n",
      "\n",
      "Tourist Spot: Diniwid Beach\n",
      "Image: https://images.thrillophilia.com/image/upload/s--35gt-G1m--/c_fill,g_center,h_450,q_auto,w_752/f_auto,fl_strip_profile/v1/images/photos/000/367/492/original/1614173795_shutterstock_1022676274.jpg.jpg\n",
      "\n",
      "Tourist Spot: Willy's Rock\n",
      "Image: https://images.thrillophilia.com/image/upload/s--SmQE19th--/c_fill,g_center,h_450,q_auto,w_752/f_auto,fl_strip_profile/v1/images/photos/000/367/493/original/1614173807_1614153349_shutterstock_512592079.jpg.jpg.jpg\n",
      "\n",
      "Tourist Spot: Cagban Beach\n",
      "Image: https://images.thrillophilia.com/image/upload/s--kfrguPR1--/c_fill,g_center,h_450,q_auto,w_752/f_auto,fl_strip_profile/v1/images/photos/000/367/494/original/1614173850_shutterstock_1190662036.jpg.jpg\n",
      "\n",
      "Tourist Spot: National Park of Quezon Memorial Circle\n",
      "Image: https://images.thrillophilia.com/image/upload/s--woAYA7ml--/c_fill,g_center,h_450,q_auto,w_752/f_auto,fl_strip_profile/v1/images/photos/000/367/495/original/1614173867_1614153812_shutterstock_1679988046.jpg.jpg.jpg\n",
      "\n",
      "Tourist Spot: Ninoy Aquino Parks and Wildlife Center\n",
      "Image: https://images.thrillophilia.com/image/upload/s--b9zzbO1U--/c_fill,g_center,h_450,q_auto,w_752/f_auto,fl_strip_profile/v1/images/photos/000/367/496/original/1614173887_1614153871_shutterstock_1223335216.jpg.jpg.jpg\n",
      "\n",
      "Tourist Spot: 3d Art Museum of Art in Island\n",
      "Image: https://images.thrillophilia.com/image/upload/s--fspvY7F9--/c_fill,g_center,h_450,q_auto,w_752/f_auto,fl_strip_profile/v1/images/photos/000/367/497/original/1614173902_1614153943_shutterstock_616554446.jpg.jpg.jpg\n",
      "\n",
      "Tourist Spot: La Mesa Dam and Ecopark\n",
      "Image: https://images.thrillophilia.com/image/upload/s---p_4VS7N--/c_fill,g_center,h_450,q_auto,w_752/f_auto,fl_strip_profile/v1/images/photos/000/367/498/original/1614173968_shutterstock_1604438410.jpg.jpg\n",
      "\n",
      "Tourist Spot: Lake Kayangan\n",
      "Image: https://images.thrillophilia.com/image/upload/s--RhGzc2Sl--/c_fill,g_center,h_450,q_auto,w_752/f_auto,fl_strip_profile/v1/images/photos/000/367/499/original/1614173999_1614154023_shutterstock_491770084.jpg.jpg.jpg\n",
      "\n",
      "Tourist Spot: Coron Bay\n",
      "Image: https://images.thrillophilia.com/image/upload/s--afvwCVbh--/c_fill,g_center,h_450,q_auto,w_752/f_auto,fl_strip_profile/v1/images/photos/000/367/500/original/1614174012_1614154073_shutterstock_1052376635.jpg.jpg.jpg\n",
      "\n",
      "Tourist Spot: Atwayan Beach\n",
      "Image: https://images.thrillophilia.com/image/upload/s--O0Tr79Vm--/c_fill,g_center,h_450,q_auto,w_752/f_auto,fl_strip_profile/v1/images/photos/000/367/501/original/1614174067_shutterstock_1259609920.jpg.jpg\n",
      "\n",
      "Tourist Spot: Underwater Mountains in Barracuda Lake\n",
      "Image: https://images.thrillophilia.com/image/upload/s--KU7POeGn--/c_fill,g_center,h_450,q_auto,w_752/f_auto,fl_strip_profile/v1/images/photos/000/367/502/original/1614174139_shutterstock_237354334.jpg.jpg\n",
      "\n",
      "Tourist Spot: Banana Islands\n",
      "Image: https://images.thrillophilia.com/image/upload/s--PIlVB9Z9--/c_fill,g_center,h_450,q_auto,w_752/f_auto,fl_strip_profile/v1/images/photos/000/367/503/original/1614174202_shutterstock_294260525.jpg.jpg\n",
      "\n",
      "Tourist Spot: Coral Garden\n",
      "Image: https://images.thrillophilia.com/image/upload/s--7ODdOlnZ--/c_fill,g_center,h_450,q_auto,w_752/f_auto,fl_strip_profile/v1/images/photos/000/367/504/original/1614174293_shutterstock_1242784495.jpg.jpg\n",
      "\n",
      "Tourist Spot: Secret Lagoon\n",
      "Image: https://images.thrillophilia.com/image/upload/s--z93AdXar--/c_fill,g_center,h_450,q_auto,w_752/f_auto,fl_strip_profile/v1/images/photos/000/367/505/original/1614174369_shutterstock_1080732947.jpg.jpg\n",
      "\n",
      "Tourist Spot: Snake Island\n",
      "Image: https://images.thrillophilia.com/image/upload/s--jPXf9iAt--/c_fill,g_center,h_450,q_auto,w_752/f_auto,fl_strip_profile/v1/images/photos/000/367/506/original/1614174381_1614154231_shutterstock_742098859.jpg.jpg.jpg\n",
      "\n",
      "Tourist Spot: Seven Commando Beach\n",
      "Image: https://images.thrillophilia.com/image/upload/s--VFgj0oEd--/c_fill,g_center,h_450,q_auto,w_752/f_auto,fl_strip_profile/v1/images/photos/000/367/507/original/1614174445_shutterstock_1618960849.jpg.jpg\n",
      "\n",
      "Tourist Spot: Coron Beach\n",
      "Image: https://images.thrillophilia.com/image/upload/s--mgarIfj1--/c_fill,g_center,h_450,q_auto,w_752/f_auto,fl_strip_profile/v1/images/photos/000/367/508/original/1614174694_shutterstock_766903147.jpg.jpg\n",
      "\n"
     ]
    }
   ],
   "source": [
    "# iterate over each card container\n",
    "for card in card_containers:\n",
    "    # Extract the tourist spot name\n",
    "    spot_name = card.find('h3', class_='h3 title').text.strip()\n",
    "\n",
    "    # Extract the image URL\n",
    "    image_element = card.find('img')\n",
    "    image_url = image_element['data-src']\n",
    "\n",
    "    print(\"Tourist Spot:\", spot_name)\n",
    "    print(\"Image:\", image_url)\n",
    "    print()"
   ]
  }
 ],
 "metadata": {
  "kernelspec": {
   "display_name": "Python 3 (ipykernel)",
   "language": "python",
   "name": "python3"
  },
  "language_info": {
   "codemirror_mode": {
    "name": "ipython",
    "version": 3
   },
   "file_extension": ".py",
   "mimetype": "text/x-python",
   "name": "python",
   "nbconvert_exporter": "python",
   "pygments_lexer": "ipython3",
   "version": "3.11.3"
  }
 },
 "nbformat": 4,
 "nbformat_minor": 5
}
