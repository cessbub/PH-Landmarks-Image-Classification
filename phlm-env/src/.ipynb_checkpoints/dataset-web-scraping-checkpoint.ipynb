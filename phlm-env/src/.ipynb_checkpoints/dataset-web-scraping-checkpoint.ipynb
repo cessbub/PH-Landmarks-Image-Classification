{
 "cells": [
  {
   "cell_type": "code",
   "execution_count": 4,
   "id": "595ab352",
   "metadata": {},
   "outputs": [],
   "source": [
    "# imports and Libraries\n",
    "import requests\n",
    "from bs4 import BeautifulSoup"
   ]
  },
  {
   "cell_type": "code",
   "execution_count": 5,
   "id": "6c070298",
   "metadata": {},
   "outputs": [],
   "source": [
    "# send a GET request to the website\n",
    "url = \"https://www.thrillophilia.com/places-to-visit-in-philippines\"\n",
    "response = requests.get(url)"
   ]
  },
  {
   "cell_type": "code",
   "execution_count": 11,
   "id": "22a35ea9",
   "metadata": {},
   "outputs": [
    {
     "ename": "AttributeError",
     "evalue": "'str' object has no attribute 'head'",
     "output_type": "error",
     "traceback": [
      "\u001b[0;31m---------------------------------------------------------------------------\u001b[0m",
      "\u001b[0;31mAttributeError\u001b[0m                            Traceback (most recent call last)",
      "Cell \u001b[0;32mIn[11], line 1\u001b[0m\n\u001b[0;32m----> 1\u001b[0m \u001b[43mresponse\u001b[49m\u001b[38;5;241;43m.\u001b[39;49m\u001b[43mtext\u001b[49m\u001b[38;5;241;43m.\u001b[39;49m\u001b[43mhead\u001b[49m()\n",
      "\u001b[0;31mAttributeError\u001b[0m: 'str' object has no attribute 'head'"
     ]
    }
   ],
   "source": [
    "response.text"
   ]
  },
  {
   "cell_type": "code",
   "execution_count": 7,
   "id": "c906b0d0",
   "metadata": {},
   "outputs": [],
   "source": [
    "# create a BeautifulSoup object to parse the HTML content\n",
    "soup = BeautifulSoup(response.text, 'html.parser')"
   ]
  },
  {
   "cell_type": "code",
   "execution_count": 8,
   "id": "63008b98",
   "metadata": {},
   "outputs": [],
   "source": [
    "# find all the main card containers\n",
    "card_containers = soup.find_all('div', class_='base-block.main-card-container.content-main-card')"
   ]
  },
  {
   "cell_type": "code",
   "execution_count": 9,
   "id": "a453c39e",
   "metadata": {},
   "outputs": [],
   "source": [
    "# iterate over each card container\n",
    "for card in card_containers:\n",
    "    # Extract the tourist spot name\n",
    "    spot_name = card.find('h3', class_='h3.title').text.strip()\n",
    "\n",
    "    # Extract the image URL\n",
    "    image_element = card.find('img')\n",
    "    image_url = image_element['data-src']\n",
    "\n",
    "    print(\"Tourist Spot:\", spot_name)\n",
    "    print(\"Image:\", image_url)\n",
    "    print()"
   ]
  }
 ],
 "metadata": {
  "kernelspec": {
   "display_name": "Python 3 (ipykernel)",
   "language": "python",
   "name": "python3"
  },
  "language_info": {
   "codemirror_mode": {
    "name": "ipython",
    "version": 3
   },
   "file_extension": ".py",
   "mimetype": "text/x-python",
   "name": "python",
   "nbconvert_exporter": "python",
   "pygments_lexer": "ipython3",
   "version": "3.11.3"
  }
 },
 "nbformat": 4,
 "nbformat_minor": 5
}
